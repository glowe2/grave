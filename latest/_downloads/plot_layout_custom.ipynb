{
  "cells": [
    {
      "cell_type": "code",
      "execution_count": null,
      "metadata": {
        "collapsed": false
      },
      "outputs": [],
      "source": [
        "%matplotlib inline"
      ]
    },
    {
      "cell_type": "markdown",
      "metadata": {},
      "source": [
        "\nUsing a custom layout\n=====================\n\nThe default layouts available through Grave may not be sufficient for ones\nneed. Hence, Grave also support custom layouts.\n\n\n"
      ]
    },
    {
      "cell_type": "code",
      "execution_count": null,
      "metadata": {
        "collapsed": false
      },
      "outputs": [],
      "source": [
        "import numpy as np\nimport networkx as nx\nimport matplotlib.pyplot as plt\nfrom grave import grave\n\n\ngraph = nx.barbell_graph(10, 14)\nnx.set_node_attributes(graph, dict(graph.degree()), 'degree')\n\n\ndef random_constrained_layout(networkx):\n    \"\"\"\n    Let's build my own layout. It's going to be random, except for a handful\n    of points!\n    \"\"\"\n    n_nodes = len(graph.nodes.data())\n    random_state = np.random.RandomState(seed=0)\n    xy = random_state.randn(n_nodes, 2)\n    xy[0] = [0, 0]\n    xy[10] = [+3, 8]\n\n    return {k: xy[k] for k in graph.nodes.keys()}\n\n\nfig, ax = plt.subplots()\ngrave.plot_network(graph, ax=ax, layout=random_constrained_layout)\nplt.show()"
      ]
    }
  ],
  "metadata": {
    "kernelspec": {
      "display_name": "Python 3",
      "language": "python",
      "name": "python3"
    },
    "language_info": {
      "codemirror_mode": {
        "name": "ipython",
        "version": 3
      },
      "file_extension": ".py",
      "mimetype": "text/x-python",
      "name": "python",
      "nbconvert_exporter": "python",
      "pygments_lexer": "ipython3",
      "version": "3.6.3"
    }
  },
  "nbformat": 4,
  "nbformat_minor": 0
}